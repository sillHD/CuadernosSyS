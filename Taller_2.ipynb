{
  "nbformat": 4,
  "nbformat_minor": 0,
  "metadata": {
    "colab": {
      "provenance": [],
      "authorship_tag": "ABX9TyMWQb1tGOMGtTuhUdm9DzYO",
      "include_colab_link": true
    },
    "kernelspec": {
      "name": "python3",
      "display_name": "Python 3"
    },
    "language_info": {
      "name": "python"
    }
  },
  "cells": [
    {
      "cell_type": "markdown",
      "metadata": {
        "id": "view-in-github",
        "colab_type": "text"
      },
      "source": [
        "<a href=\"https://colab.research.google.com/github/sillHD/CuadernosSyS/blob/main/Taller_2.ipynb\" target=\"_parent\"><img src=\"https://colab.research.google.com/assets/colab-badge.svg\" alt=\"Open In Colab\"/></a>"
      ]
    },
    {
      "cell_type": "markdown",
      "source": [
        "# SOLUCION TALLER\n",
        "\n",
        "Ismael Cortes Ramirez\n",
        "\n",
        "Señales y Sistemas\n",
        "\n",
        "## EJERCICIO 2.1\n",
        "\n",
        "Semejanzas:\n",
        "\n",
        "- en ambas se usan las funciones sen y cos para la representacion de las señales y los respectivos calculos que se tengan que realizar con ellas\n",
        "\n",
        "- en ambas se descomponen un señal en sus componentes frecuenciales\n",
        "\n",
        "- en ambas se cumplen las propiedades de linealidad\n",
        "\n",
        "- en ambas se analiza en tienmpo continuo\n",
        "\n",
        "Diferencias:\n",
        "\n",
        "- en la serie de fourier se analiza sobre un segmento finito, por otro lado en la transformada se analiza sobre segmento infinito\n",
        "\n",
        "- en la serie de fourier se analiza en espectro en frecuencia discreto, por otro lado en la tranformada se analiza en espectro en frecuencia continuo\n",
        "\n",
        "- en la serie de fourier el tipo de coeficientes va a variar dependiendo si es exponencial, trigonometrica o compacta, por otro lado la tranformada entrega un espectro continuo de amplitudes y fases en el dominio de la frecuencia\n",
        "\n",
        "###Transformada discreta de Fourier y transformada rápida de Fourier (semejanzas)\n",
        "\n",
        "- tanto para la serie de Fourier, como para la transformada (continua y discreta en tiempo), se require de la resolución analítica de integrales y de la suposicion de intervalos infinitos en tiempo y frecuencia\n",
        "\n",
        "- las dos tienen un espectro periodico en el dominio de la frecuencia\n",
        "\n",
        "- las dos tienen una transformada inversa que permite reconstruir la señal original\n",
        "\n",
        "Diferencias:\n",
        "\n",
        "- La DTFT se aplica a señales infinitas en el dominio discreto mientras que la DFT se aplica a señales de duracion finita\n",
        "\n",
        "- en la DTFT el dominio frecuencial es discreto, pero el dominio frecuencial es continuo, por otro lado, en el DFT tanto el dominio temporal como frecuencial son discretos\n",
        "\n",
        "tiempo continuo, espectro continuo: transformada de fourier\n",
        "\n",
        "tiempo continuo, espectro discreto: serie de fourier\n",
        "\n",
        "tiempo discreto, espectro continuo: transformada de fourier en tiempo discreto\n",
        "\n",
        "tiempo discreto, espectro discreto: transformada discreta de fourier\n",
        "\n",
        "el algoritmo FFT se usa para calcular la DFT de una señal de forma eficiente, aunque conceptualmente la DFT y FFT son equivalentes, el FFT reduce considerablemente el costo operacional, este algoritmo descompone la señal en partes mas pequeñas y calula las transformadas de estas partes recursivamente\n",
        "\n",
        "## EJERCICIO 2.4\n",
        "\n",
        "THD: es una medida que indica el grado o que tanto se ve afectada una señalpor la presencia de armonicos en relacion con el componente fundamental de la señal\n",
        "\n",
        "Factor de potencia: es una medida que indica la eficiencia con la que un circuito utiliza la energia que recibe de una fuente de alimentacion"
      ],
      "metadata": {
        "id": "X5zKe7lnA2D0"
      }
    },
    {
      "cell_type": "code",
      "execution_count": null,
      "metadata": {
        "id": "-K_8Pi8eA0lX"
      },
      "outputs": [],
      "source": []
    }
  ]
}