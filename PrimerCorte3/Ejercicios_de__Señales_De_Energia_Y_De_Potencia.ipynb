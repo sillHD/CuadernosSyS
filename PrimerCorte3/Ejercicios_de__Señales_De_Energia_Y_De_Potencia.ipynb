{
  "nbformat": 4,
  "nbformat_minor": 0,
  "metadata": {
    "colab": {
      "provenance": [],
      "include_colab_link": true
    },
    "kernelspec": {
      "name": "python3",
      "display_name": "Python 3"
    }
  },
  "cells": [
    {
      "cell_type": "markdown",
      "metadata": {
        "id": "view-in-github",
        "colab_type": "text"
      },
      "source": [
        "<a href=\"https://colab.research.google.com/github/sillHD/CuadernosSyS/blob/main/PrimerCorte3/Ejercicios_de__Sen%CC%83ales_De_Energia_Y_De_Potencia.ipynb\" target=\"_parent\"><img src=\"https://colab.research.google.com/assets/colab-badge.svg\" alt=\"Open In Colab\"/></a>"
      ]
    },
    {
      "cell_type": "markdown",
      "metadata": {
        "id": "B52z58zguMuL"
      },
      "source": [
        "# Señales de energía y potencia\n",
        "\n",
        "Las señales pueden clasificarse como de energía o de potencia.\n",
        "\n",
        "Los conceptos de energía y potencia son empleados para la generalización de métricas que permitirán tomar decisiones de convergencia en distintos tipos de análisis en espacios $L^{2}$.\n",
        "\n",
        "---\n",
        "\n",
        "\n",
        "\n",
        "## Señales de energía\n",
        "\n",
        "Se dice que una señal es de energía, si su energía total $E_x$ converge, es decir:\n",
        "\n",
        "$$\n",
        "0< E_x < \\infty. \\tag{1}\n",
        "$$\n",
        "\n",
        "Para el caso de una señal $x(t)$ contínua, su energía total es calculada como:\n",
        "\n",
        "$$\n",
        "E_x = \\|x(t) \\|_2^2 = \\int_{-\\infty}^{\\infty} |x(t)|^{2}~dt,  \\tag{2}\n",
        "$$\n",
        "donde la [norma-2](https://en.wikipedia.org/wiki/Norm_(mathematics)) de la señal $x(t)$ se denota por: $\\|x(t) \\|_2^2.$ En el mismo sentido, la energía total de la función discreta $x[n]$, es:\n",
        "\n",
        "$$\n",
        "E_x = \\|x[n] \\|_2^2 = \\sum_{n=-\\infty}^{\\infty} |x[n]|^{2}  \\tag{3}\n",
        "$$\n",
        "\n",
        "Tomando en cuenta que la energía de una señal en un intervalo de tiempo finito $T$ es:\n",
        "\n",
        "$$\n",
        "E_T = \\int_T |x(t)|^{2}~dt. \\tag{4}\n",
        "$$\n",
        "\n",
        "La energía total de la señal puede expresarse en terminos del siguiente límite:\n",
        "\n",
        "$$\n",
        "E_x = \\lim_{T \\to \\infty} E_T \\tag{5}\n",
        "$$\n",
        "\n",
        "Para las señales discretas,\n",
        "\n",
        "$$\n",
        "E_N = \\sum_{n=-N}^{N} |x[n]|^{2} \\tag{6}\n",
        "$$\n",
        "\n",
        "Y la energía total de $x[n]$ es:\n",
        "\n",
        "$$\n",
        "E_x = \\lim_{N \\to \\infty} E_N \\tag{7}\n",
        "$$\n",
        "\n",
        "## Señales de potencia\n",
        "\n",
        "Por otro lado, una señal se clasifica como de potencia, si su potencia media $\\bar{P}_x$ converge, esto es:\n",
        "\n",
        "$$\n",
        "0< \\bar{P}_x < \\infty \\tag{8}\n",
        "$$\n",
        "\n",
        "Para el caso de una señal $x(t)$  continua, su potencia media se calcula a partir de la siguiente expresión.\n",
        "\n",
        "$$\n",
        "\\bar{P}_x = \\lim_{T \\to \\infty} \\frac{1}{T} \\int_T |x(t)|^{2}~dt  \\tag{9}\n",
        "$$\n",
        "\n",
        "Si $x(t)$ resulta ser periódica, la ecuación anterior puede reescribirse de la siguiente manera:\n",
        "\n",
        "$$\n",
        "\\bar{P}_x = \\lim_{k \\to \\infty} \\frac{1}{k~T_0}~k \\int_0^{T_0} |x(t)|^{2}~dt \\tag{10}\n",
        "$$\n",
        "\n",
        "Donde $T_0$ es el periodo fundamental de la señal, con lo cual se logra hacer una analogía de la ecuación inicial de potencia llevando las repeticiones al infinito, obteniendo el siguiente resultado:\n",
        "\n",
        "$$\n",
        "\\bar{P}_x = \\frac{1}{T_0} \\int_0^{T_0} |x(t)|^{2}~dt \\tag{11}\n",
        "$$\n",
        "\n",
        "Para el caso de una señal discreta $x[n]$, su potencia media está definida por:\n",
        "\n",
        "$$\n",
        "\\bar{P}_x = \\lim_{N \\to \\infty} \\frac{1}{2N+1} \\sum_{n=-N}^{N} |x[n]|^{2}  \\tag{12}\n",
        "$$\n",
        "\n",
        "De igual manera, si $x[n]$ resulta ser periódica, su potencia media estará dada por:\n",
        "\n",
        "$$\n",
        "\\bar{P}_ x = \\frac{1}{N_0} \\sum_{n=0}^{N_0-1} |x_[n]|^{2} \\tag{13}\n",
        "$$\n",
        "\n",
        "Donde $N_0$ es el número mínimo de muestras para el cual la señal $x[n]$ se repite.\n",
        "\n",
        "La potencia media también se puede expresar en términos de la energía de la señal de la siguiente forma:\n",
        "\n",
        "* Caso continuo\n",
        "\n",
        "$$\n",
        "\\bar{P}_x = \\lim_{T \\to \\infty} \\frac{1}{T}~E_T \\tag{14}\n",
        "$$\n",
        "\n",
        "* Caso discreto\n",
        "\n",
        "$$\n",
        "\\bar{P}_x = \\lim_{N \\to \\infty} \\frac{1}{2N+1}~E_N \\tag{15}\n",
        "$$\n",
        "\n",
        "De lo anterior se puede concluir que:\n",
        "\n",
        "**-**Si la energía de la señal es finita, entonces su potencia es cero.\n",
        "\n",
        "**-**Si la señal tiene energía infinita, su potencia puede ser finita o infinita.\n",
        "\n",
        "**-**Si la potencia de la señal es finita, su energía es infinita.\n"
      ]
    },
    {
      "cell_type": "markdown",
      "metadata": {
        "id": "M7a6xCxlbgEQ"
      },
      "source": [
        "## Ejemplo 1\n",
        "\n",
        "Determine el concepto de potencia media a partir de la potencia instantánea disipada por una resistencia de $1 \\Omega$."
      ]
    },
    {
      "cell_type": "code",
      "metadata": {
        "id": "OSWTBwgBQZgi",
        "colab": {
          "base_uri": "https://localhost:8080/",
          "height": 807
        },
        "outputId": "2e51dc0b-b9dc-4c3b-e637-3bdffdae6204"
      },
      "source": [
        "import matplotlib.pyplot as plt\n",
        "import matplotlib.patches as mpatches\n",
        "\n",
        "fig, ax = plt.subplots(1, figsize=(8, 10))\n",
        "ax.axvline(0.4, 0.8, 1, color=\"black\", linewidth=5)\n",
        "ax.axvline(0.4, 0, 0.2, color=\"black\", linewidth=5)\n",
        "rect = mpatches.Rectangle([0.2, 0.2], 0.4, 0.6, edgecolor=\"black\", facecolor=\"white\", linewidth=5)\n",
        "ax.add_patch(rect)\n",
        "ax.arrow(0.7, 0.2, 0, 0.6, width=0.005, length_includes_head=True, head_width=0.05, facecolor=\"black\")\n",
        "ax.arrow(0.4, 1, 0, -0.15, width=0.005, length_includes_head=True, head_width=0.05, facecolor=\"black\")\n",
        "ax.text(0.4, 0.5, r'$R=1 \\Omega$', fontsize = 45, horizontalalignment='center')\n",
        "ax.text(0.3, 0.9, r'$i(t)$', fontsize = 45, horizontalalignment='center')\n",
        "ax.text(0.8, 0.5, r'$v(t)$', fontsize = 45, horizontalalignment='center')\n",
        "ax.grid()\n",
        "ax.set_axis_off()\n",
        "fig.show()"
      ],
      "execution_count": null,
      "outputs": [
        {
          "output_type": "display_data",
          "data": {
            "text/plain": [
              "<Figure size 800x1000 with 1 Axes>"
            ],
            "image/png": "[encoded data removed]"
          },
          "metadata": {}
        }
      ]
    },
    {
      "cell_type": "markdown",
      "metadata": {
        "id": "XjX-wCHol7zE"
      },
      "source": [
        "La potencia instantánea $p(t)$ para el elemento resistivo está dada por la siguiente ecuación:\n",
        "\n",
        "$$\n",
        "p(t) = v(t) \\cdot i(t) = R \\cdot i(t)^{2}\n",
        "$$\n",
        "\n",
        "Evaluando en $R = 1 \\Omega$,\n",
        "\n",
        "$$\n",
        "p(t) = i(t)^{2}\n",
        "$$\n",
        "\n",
        "La potencia media de la señal de corriente en un intervalo de tiempo $T$ es entonces la siguiente:\n",
        "\n",
        "$$\n",
        "\\bar{P}_i = \\frac{1}{T} \\int_0^{T} i(t)^{2}~dt\n",
        "$$\n",
        "\n",
        "Para el caso en el que $i(t)$ coincide con una señal sinusoidal,\n",
        "\n",
        "$$\n",
        "\\bar{P}_i = \\frac{1}{T_0} \\int_0^{T_0} \\left( I_{\\max}~\\sin(w_0t+\\theta) \\right)^{2}~dt\\\\\n",
        "\\bar{P}_i = \\frac{I_{\\max}^{2}}{2}\n",
        "$$\n",
        "\n",
        "Lo que es equivalente al cuadrado del [valor eficaz](https://en.wikipedia.org/wiki/Root_mean_square) de la señal.\n",
        "\n",
        "$$\n",
        "I_{RMS} = \\frac{I_{\\max}}{\\sqrt{2}}\n",
        "$$"
      ]
    },
    {
      "cell_type": "code",
      "metadata": {
        "id": "CPJJ1mcJh7aK",
        "colab": {
          "base_uri": "https://localhost:8080/",
          "height": 71
        },
        "outputId": "ea5f86d6-9e99-4740-87fa-78c075db950e"
      },
      "source": [
        "from sympy import * #importar todo sympy\n",
        "init_printing()\n",
        "t, I_max = symbols('t, I_max', real = True)\n",
        "w = symbols('w', real = True, nonzero = True)\n",
        "T0 = 2*pi/w\n",
        "x = I_max*sin(w*t)\n",
        "P = integrate(x**2, (t, 0, T0)) /T0\n",
        "print('La potencia media de la señal es:')\n",
        "P"
      ],
      "execution_count": null,
      "outputs": [
        {
          "output_type": "stream",
          "name": "stdout",
          "text": [
            "La potencia media de la señal es:\n"
          ]
        },
        {
          "output_type": "execute_result",
          "data": {
            "text/plain": [
              "    2\n",
              "Iₘₐₓ \n",
              "─────\n",
              "  2  "
            ],
            "text/latex": "$\\displaystyle \\frac{I_{max}^{2}}{2}$"
          },
          "metadata": {},
          "execution_count": 3
        }
      ]
    },
    {
      "cell_type": "markdown",
      "metadata": {
        "id": "PH-GYMVqgqpg"
      },
      "source": [
        "La siguiente figura muestra la potencia media  e instantánea de la señal de corriente $4\\sin(2 \\pi t)$, cuando circula a través de una resistencia de 1 Ohm."
      ]
    },
    {
      "cell_type": "code",
      "metadata": {
        "id": "9kfuto9NdTJd",
        "colab": {
          "base_uri": "https://localhost:8080/",
          "height": 487
        },
        "outputId": "6611b940-2e76-444a-c4a5-2042e144053e"
      },
      "source": [
        "import warnings\n",
        "warnings.filterwarnings(\"ignore\")\n",
        "\n",
        "w0 = 2*pi\n",
        "T0 = T0.subs(w, w0)\n",
        "sig = 4*sin(w0*t)\n",
        "p_ins = sig ** 2\n",
        "P = integrate(sig**2, (t, 0, T0)) /T0\n",
        "\n",
        "t_limits = (t, 0, 3)\n",
        "ylim=[-5, 18]\n",
        "p1 = plot(sig, t_limits, ylim=ylim,show = False, line_color = 'orange', legend = True)\n",
        "p2 = plot(p_ins, t_limits, ylim=ylim, show = False, legend = True)\n",
        "p3 = plot(P, t_limits, ylim=ylim, show = False, line_color = 'green', legend = True)\n",
        "p1.extend(p2)\n",
        "p1.extend(p3)\n",
        "p1.show()"
      ],
      "execution_count": null,
      "outputs": [
        {
          "output_type": "display_data",
          "data": {
            "text/plain": [
              "<Figure size 640x480 with 1 Axes>"
            ],
            "image/png": "[encoded data removed]"
          },
          "metadata": {}
        }
      ]
    },
    {
      "cell_type": "markdown",
      "metadata": {
        "id": "Aum2C5AYLsDY"
      },
      "source": [
        "## Ejercicio 1\n",
        "\n",
        "Graficar la potencia media de una impedancia $R+jwL$, cuándo es excitada por una fuente sinusoidal.\n",
        "\n",
        "Graficar la potencia media de una impedancia $R-j\\frac{1}{wC} $, cuándo es excitada por una fuente sinusoidal.\n",
        "\n",
        "Ver cuaderno [https://github.com/amalvarezme/SenalesSistemas/blob/master/1_IntroduccionSyS/6_Potencia_Circutios.ipynb](https://github.com/amalvarezme/SenalesSistemas/blob/master/1_IntroduccionSyS/6_Potencia_Circutios.ipynb) para repaso conceptos básicos potencia en circuitos."
      ]
    },
    {
      "cell_type": "markdown",
      "source": [
        "## Primer Punto\n"
      ],
      "metadata": {
        "id": "2U0N5hz5fFaq"
      }
    },
    {
      "cell_type": "code",
      "source": [
        "import numpy as np\n",
        "# Datos de entrada\n",
        "R = 5\n",
        "w = 200\n",
        "L = 0.02\n",
        "I_max = 3\n",
        "\n",
        "# Definicion de las variables de corriente y  voltaje\n",
        "V_max = sqrt(R**2+((w*L)**2)*I_max)\n",
        "theta = np.arctan(w*L/R)\n",
        "I_t = I_max*sin(w*t)\n",
        "V_t = V_max*sin(w*t+theta)\n",
        "\n",
        "# Potencia instantanea\n",
        "P_i = V_t*I_t\n",
        "\n",
        "# Potencia media\n",
        "P = integrate(P_i, (t, 0, T0)) /T0\n",
        "print('La potencia media de la señal es:',P)\n",
        "\n",
        "# Ploteado de la señal\n",
        "P_plt = plot(P, t_limits, ylim=ylim, show = False, line_color = 'green', label = \"Potencia media\", legend = True)\n",
        "P_plt.show()\n"
      ],
      "metadata": {
        "colab": {
          "base_uri": "https://localhost:8080/",
          "height": 504
        },
        "id": "fAss5GQffIji",
        "outputId": "aca78685-c7c0-4ab8-a2a3-ddf3cb8df02c"
      },
      "execution_count": null,
      "outputs": [
        {
          "output_type": "stream",
          "name": "stdout",
          "text": [
            "La potencia media de la señal es: -4.89849219138575*sin(200) + 11.8672899901425*cos(200)\n"
          ]
        },
        {
          "output_type": "display_data",
          "data": {
            "text/plain": [
              "<Figure size 640x480 with 1 Axes>"
            ],
            "image/png": "[encoded data removed]"
          },
          "metadata": {}
        }
      ]
    },
    {
      "cell_type": "markdown",
      "source": [
        "El código calcula y grafica la potencia media de un circuito RLC (Resistencia, Inductor, Capacitor) excitado por una fuente sinusoidal. Para ello, define los valores de los componentes del circuito (R, L, C), la frecuencia angular (w) y las amplitudes de corriente y voltaje (I_max, V_max). Luego, calcula la potencia instantánea (P_i) y la integra para obtener la potencia media (P). Finalmente, grafica la potencia media en función del tiempo."
      ],
      "metadata": {
        "id": "TzVUXOszxrrT"
      }
    },
    {
      "cell_type": "markdown",
      "source": [
        "## Segundo Punto"
      ],
      "metadata": {
        "id": "FL5cfz1kt1S0"
      }
    },
    {
      "cell_type": "code",
      "source": [
        "\n",
        "# Datos de entrada\n",
        "R = 5\n",
        "w = 200\n",
        "C = 0.5\n",
        "I_max = 3\n",
        "\n",
        "# Definicion de las variables de corriente y  voltaje\n",
        "V_max = sqrt(R**2+(1/(w*C)**2)*I_max)\n",
        "theta = -(np.arctan(1/w*R*C))\n",
        "I_t = I_max*sin(w*t)\n",
        "V_t = V_max*sin(w*t+theta)\n",
        "\n",
        "# Potencia instantanea\n",
        "P_i = V_t*I_t\n",
        "\n",
        "# Potencia media\n",
        "P = integrate(P_i, (t, 0, T0)) /T0\n",
        "print('La potencia media de la señal es:',P)\n",
        "\n",
        "# Ploteado de la señal\n",
        "P_plt = plot(P, t_limits, ylim=ylim, show = False, line_color = 'green', label = \"Potencia media\", legend = True)\n",
        "P_plt.show()"
      ],
      "metadata": {
        "colab": {
          "base_uri": "https://localhost:8080/",
          "height": 504
        },
        "id": "PH44dR0mt79a",
        "outputId": "05de820d-5107-4668-a36a-d13ab1bcfddc"
      },
      "execution_count": null,
      "outputs": [
        {
          "output_type": "stream",
          "name": "stdout",
          "text": [
            "La potencia media de la señal es: 3.57177833880679*cos(200) - 6.61278682901303*sin(200)\n"
          ]
        },
        {
          "output_type": "display_data",
          "data": {
            "text/plain": [
              "<Figure size 640x480 with 1 Axes>"
            ],
            "image/png": "[encoded data removed]"
          },
          "metadata": {}
        }
      ]
    },
    {
      "cell_type": "markdown",
      "source": [
        "El código calcula y grafica la potencia media de un circuito RC excitado por una fuente de corriente sinusoidal. Define los parámetros del circuito (R, C, w, I_max), calcula el voltaje máximo y el desfase, define las señales de corriente y voltaje, calcula la potencia instantánea y la integra para obtener la potencia media, e imprime y grafica el resultado."
      ],
      "metadata": {
        "id": "THTYBT_8yDCi"
      }
    },
    {
      "cell_type": "markdown",
      "metadata": {
        "id": "rUhDcUsXOHGq"
      },
      "source": [
        "## Ejemplo 2\n",
        "\n",
        "Para el caso de una señal sinusoidal de amplitud $A$ y periodo fundamental $T_0$ tal que:\n",
        "$$\n",
        "v(t) = A\\cos(w_0t), ~~~ w_0 = \\frac{2\\pi}{T_0}\n",
        "$$\n",
        "\n",
        "Determinar su potencia media y energía total.\n",
        "\n",
        "$$\n",
        "\\bar{P}_v = \\frac{1}{T_0} \\int_0^{T_0} |A\\cos(w_0t)|^{2}~dt\\\\\n",
        "\\bar{P}_v = \\frac{A^{2}}{T_0} \\left[\\int_0^{T0} \\frac{1}{2} ~dt + \\int_0^{T0} \\frac{\\cos(2w_0t)}{2} ~dt  \\right]\\\\\n",
        "\\bar{P}_v = \\frac{A^{2}}{2}\n",
        "$$\n",
        "\n",
        "Debido a que la potencia de la señal es finita (siempre y cuando $A<\\infty$), su energía total es infinita.\n",
        "\n",
        "$$\n",
        "E_v \\to \\infty\n",
        "$$"
      ]
    },
    {
      "cell_type": "code",
      "metadata": {
        "id": "Nhnb5oSGmHBt",
        "colab": {
          "base_uri": "https://localhost:8080/",
          "height": 71
        },
        "outputId": "fe03569a-7338-4af3-beab-5c386bb16ade"
      },
      "source": [
        "t = symbols('t', real = True)\n",
        "w, A = symbols('w, A', real = True, nonzero = True, nonnegative = True)\n",
        "T0 = 2*pi/w\n",
        "x = A*cos(w*t)\n",
        "Pv = integrate(x**2, (t, 0, T0)) /T0\n",
        "print('La potencia media de la señal es:')\n",
        "Pv"
      ],
      "execution_count": null,
      "outputs": [
        {
          "output_type": "stream",
          "name": "stdout",
          "text": [
            "La potencia media de la señal es:\n"
          ]
        },
        {
          "output_type": "execute_result",
          "data": {
            "text/plain": [
              " 2\n",
              "A \n",
              "──\n",
              "2 "
            ],
            "text/latex": "$\\displaystyle \\frac{A^{2}}{2}$"
          },
          "metadata": {},
          "execution_count": 33
        }
      ]
    },
    {
      "cell_type": "code",
      "metadata": {
        "id": "6ac7OgRELA_l",
        "colab": {
          "base_uri": "https://localhost:8080/",
          "height": 72
        },
        "outputId": "01075595-42ba-4424-d257-57c7dc6c96c3"
      },
      "source": [
        "T = symbols('T', real = True)\n",
        "Ev = integrate(x**2, (t, -oo, oo))\n",
        "print('\\nLa energía total de la señal es:')\n",
        "Ev"
      ],
      "execution_count": null,
      "outputs": [
        {
          "output_type": "stream",
          "name": "stdout",
          "text": [
            "\n",
            "La energía total de la señal es:\n"
          ]
        },
        {
          "output_type": "execute_result",
          "data": {
            "text/plain": [
              "∞"
            ],
            "text/latex": "$\\displaystyle \\infty$"
          },
          "metadata": {},
          "execution_count": 34
        }
      ]
    },
    {
      "cell_type": "markdown",
      "metadata": {
        "id": "DozS0Q1PNkLM"
      },
      "source": [
        "## Ejercicio 2\n",
        "\n",
        "Discuta el concepto de valor RMS de una señal a partir de su potencia media. [Ver conceptos RMS](https://en.wikipedia.org/wiki/Root_mean_square)."
      ]
    },
    {
      "cell_type": "markdown",
      "source": [
        "el concepto de RMS se define como la raiz media cuadrada, este es usado en el calculo de la potencia media de un circuito en los casos en el que la corriente del circuito esta dado por una funcion y no un valor constante ya que durante el transcurso del tiempo la potencia instantanea fluctuara, este caso tambien aplicara cuando sea el voltaje el que esta definido por una funcion(t)\n",
        "![image.png](data:image/png;base64,iVBORw0KGgoAAAANSUhEUgAAAIQAAAAUCAYAAABMIpXkAAAF7klEQVRoBe2ZZYj1RRSHH7sVsVvBQOxWFFsUbLG7E0zsLmzkNRD1g52o2IktiigqIoLxwcLCwkQ/qP/n9ZyXYd57997F3Xt3l3vg7vznTJ/5ze+cmYWBDCwwhAVWBDYBNo3U7/wtMkS7sVy0SrEG17J6NVnLN446G1Rlo52dt5hbzmHN0R50OP0f2EzwReAf4Mmm4TnAucBNwM/A9cPpbIzUPQ54L9b0KHBwNa8Tgb+Aj4AzqrLRzq4c9v0c+BO4CDhstAcdbv+HhvFWqxoeGfotK/14yO4RczetZWHgGWDmuqBH+WmAH4GnejTesIe5B/gFmL5q6cmSOfar9OMhu37M/bQWk70X0FX2S3Rh2vWEfk1gqHFF61eA1FrLHUFri9cF4yC/RBj9umqust0Fla7X2VNibiv0euBuxlsmJndUUVmmOBz4Hdix0PfiU4B28+s0lxmAv4EHi4q6iKcbvz1ToevHp+7q634M3M2YBpXS19tN5P1CpN80lHpfY8xVqw7WAzaqdCOZXQw4r8tfJ6AKqk9iPTlHmUFXouzf/DGA9nc6sDUwz+SS//7MWZSvU+jzc5so97QrcwAXNnHJxcAuwO6hrxMP2x/A3UXBsc13zsX+toj+sooMneXLpbJI945yD7GyAHBZzGczoFUcFVWnTu6s4gcN2U5uAYw3xos8B3wXjOOmlu5DlnBTHm8AOC2g0T25GjdF3VvAK6mIdMYGQG8A7wACR3kY8AahCIj347tO1o4DmJtnuX1407shKi8PvAq4mSnqBPjtqYh0fuBD4IkIkl2LbReN8pOAx6o2bbNuvtSlUTqJdOukvSrN3any/yjvxl0MBdpy6NvC+Br8perUWe/yuF5nG0+1brJ0KTLWZ81BcENSdm3c0VnBqOrchO+zMFIPWis5Oea0bFUoI59d6GSKj4u8zOIV1dtJaX9vgpcAN0fdpQLE2dR2NYiybKpUl6C7EEWdRNT7yCOASnRL8z6wHNAY10Buu+bk7BCnxY3zwUtKlOLdoCWHGEijC7pufm5IJzk/1iezbd+isoBIQ1rs5us6S5GqfZe5qlA6ti5HF5siW8ieWzVUbfzSLhD38LWKHwSEYynaTVs9EHkTN1aQuJbjQ28931Fsl+vw4Oryr4l9SfYrumr/6UYJiLXaV5lS4kOVE7iiobKXp2hByro0aHWuAIR1feXUnx4Si/kiwGH9XokgdX3tToiAcCM16P2A19EyjnCelgliT6bGXjp8cg0ID9ezMZ6PXj6O1SJQfgVasYeAEGCOZyoAZys6SEBs2Iz/Qeg3bx4T1402CQiLPIS6NNf+G7Bb0Y+fXnu/bdZ0TOrtyEFdpI181TsiC1ukBkz6SJkgQeTjTopA+CEMdlBBuZ6YbaOSr4KtAqLsYzRSGc0NWLBN5yVDaHDnaEBXiuygeDsxOJNN3VjXWTLEfFHPTZTGDRxnDZ2n9PmI1bS3t583I/iLKpODeMGgaO+fKjelG8s3FWMJA/x0MTJhAmK6wqXoWmS9T6PfTHyAFLRnpiJTT7y/TuID1V4BCEFhEHN01UiEeyIFTIrs4OOLDHJtKnuYujkZ6LUatgSE5QaVRuel5CZ5ygRF3ipcawLCcbJetn23COxSl2krm5cuw3qCs3wKEISnRgfGIXcF8FQJ2gSEbxuyVyke/BETYwQNVYob/HqpCJr6Elij0HvN03cLIqP8VoYoqvf88+owbA58K/BQzNOYycDPdwwZcJZgwbyKy6hG88rs8bjnm45i/CADyAzdyiMRNGZ9g+BJTSzgP8O86usafCh0Ht4gZKBkJYPKdEO+wMr4yYruhzeQERMDKNG/b/S4UuTV+RO5KUlhmZctDKKsp3/WgGMFFOU7hBSvuJE3NgC4Mpgl15j/fNop6uUbhOWeWjdJFpWCPa1u0EJRt5tEO+VYe0YDmc1YzJittHnGAwbvSr5B2F6QesvwFuQ81OkyBHTfxY1/rZqF4CivTFXxIDvRLbBzE2+IeCNukb3PRF/wYH0DCwwsMLDAxLLAv8HzJK1gPdVxAAAAAElFTkSuQmCC)"
      ],
      "metadata": {
        "id": "mUr9nC2g9_hg"
      }
    },
    {
      "cell_type": "markdown",
      "metadata": {
        "id": "yPf0dMu4PGuB"
      },
      "source": [
        "## Ejemplo 3\n",
        "\n",
        "Para el caso de la señal $x(t) = e^{-\\alpha t}u(t)$ con $\\alpha > 0$, hallar su energía y potencia media.\n",
        "\n",
        "$$\n",
        "E_x = \\int_{-\\infty}^{\\infty} |e^{-\\alpha t}u(t)|^{2}~dt\\\\\n",
        "E_x = \\int_{0}^{\\infty} e^{-2\\alpha t}~dt\\\\\n",
        "E_x = -\\frac{1}{2\\alpha}~ e^{-2\\alpha t}~\\Big|_0^\\infty\\\\\n",
        "E_x = \\frac{1}{2\\alpha}\n",
        "$$\n",
        "\n",
        "$$\n",
        "\\bar{P}_x = \\lim_{T \\to \\infty} \\frac{1}{T} \\int_{-\\frac{T}{2}}^{\\frac{T}{2}} |e^{-\\alpha t}u(t)|^{2}~dt\\\\\n",
        "\\bar{P}_x = \\lim_{T \\to \\infty} \\frac{1}{T} \\int_{0}^{\\frac{T}{2}} e^{-2\\alpha t}~dt\\\\\n",
        "\\bar{P}_x = \\lim_{T \\to \\infty} \\frac{1}{T} \\left[  -\\frac{1}{2\\alpha}~ e^{-2\\alpha t}~\\Big|_0^\\frac{T}{2} \\right]\\\\\n",
        "\\bar{P}_x = \\lim_{T \\to \\infty} \\frac{1}{T} \\left[  -\\frac{1}{2\\alpha}~ e^{-\\alpha T} + \\frac{1}{2\\alpha} \\right]\\\\\n",
        "\\bar{P}_x = 0\n",
        "$$"
      ]
    },
    {
      "cell_type": "code",
      "metadata": {
        "id": "ZLsMQ-wnzWSG",
        "colab": {
          "base_uri": "https://localhost:8080/",
          "height": 68
        },
        "outputId": "a2ce793e-9cd1-4d32-abd5-de2a061893ae"
      },
      "source": [
        "from sympy import exp\n",
        "t = symbols('t', Real = True)\n",
        "a = symbols('a', Real = True, nonzero = True, nonnegative = True)\n",
        "x = exp(-a*t)\n",
        "E = integrate(x**2, (t, 0, oo))\n",
        "print('La energía total de la señal es:')\n",
        "E"
      ],
      "execution_count": null,
      "outputs": [
        {
          "output_type": "stream",
          "name": "stdout",
          "text": [
            "La energía total de la señal es:\n"
          ]
        },
        {
          "output_type": "execute_result",
          "data": {
            "text/plain": [
              " 1 \n",
              "───\n",
              "2⋅a"
            ],
            "text/latex": "$\\displaystyle \\frac{1}{2 a}$"
          },
          "metadata": {},
          "execution_count": 35
        }
      ]
    },
    {
      "cell_type": "code",
      "metadata": {
        "id": "I3uxPZrKO9vB",
        "colab": {
          "base_uri": "https://localhost:8080/",
          "height": 72
        },
        "outputId": "302f6e37-fa38-4f5a-86b0-20d45636664a"
      },
      "source": [
        "T = symbols('T', Real = True)\n",
        "P = limit(integrate(x**2, (t, 0, T/2)) / T, T, oo)\n",
        "print('\\nLa potencia media de la señal es:')\n",
        "P"
      ],
      "execution_count": null,
      "outputs": [
        {
          "output_type": "stream",
          "name": "stdout",
          "text": [
            "\n",
            "La potencia media de la señal es:\n"
          ]
        },
        {
          "output_type": "execute_result",
          "data": {
            "text/plain": [
              "0"
            ],
            "text/latex": "$\\displaystyle 0$"
          },
          "metadata": {},
          "execution_count": 36
        }
      ]
    },
    {
      "cell_type": "markdown",
      "metadata": {
        "id": "BnDP1jb2bmd4"
      },
      "source": [
        "## Ejemplo 4\n",
        "\n",
        "Determine la potencia y energía de la señal escalón unitario discreta $u[n]$.\n",
        "\n",
        "$$\n",
        "\\bar{P} = \\lim_{N \\to \\infty} \\frac{1}{2N+1} \\sum_{n=-N}^{N} |u[n]|^{2}\\\\\n",
        "\\bar{P} = \\lim_{N \\to \\infty} \\frac{1}{2N+1} \\sum_{n=0}^{N} 1\\\\\n",
        "\\bar{P} = \\lim_{N \\to \\infty} \\frac{N+1}{2N+1}\\\\\n",
        "\\bar{P} = \\frac{1}{2}\n",
        "$$\n",
        "\n",
        "Debido a que la potencia media de la señal es finita, su energía total es infinita.\n",
        "\n",
        "$$\n",
        "E \\to \\infty\n",
        "$$"
      ]
    },
    {
      "cell_type": "markdown",
      "metadata": {
        "id": "s8xgHCqBgsDN"
      },
      "source": [
        "## Ejercicio 3\n",
        "\n",
        "Finalmente, clasifique la señal $x(t) = e^{-\\alpha t}~t$ como de energía o de potencia. *Compruebe el resultado solucionando la integral por partes.*\n",
        "\n",
        "Ayuda: declare la función en la variable **x** en el siguiente bloque de código como se muestra a continuación.\n",
        "\n",
        "```\n",
        "x = exp(-a*t)*t\n",
        "```\n",
        "\n",
        "\n"
      ]
    },
    {
      "cell_type": "code",
      "metadata": {
        "id": "AqrtK_1SgAQh",
        "colab": {
          "base_uri": "https://localhost:8080/"
        },
        "outputId": "3e4e8dac-2671-4801-933d-16dbfa63fe36"
      },
      "source": [
        "x = exp(-a*t)*t  #<--- Tu linea de código va aquí\n",
        "\n",
        "E = integrate(x**2, (t, -oo, oo))\n",
        "print('La energía total de la señal es:',E)\n",
        "P = limit(integrate(x**2, (t, -T/2, T/2)) / T, T, oo)\n",
        "print('\\nLa potencia media de la señal es:',P)\n",
        "if E.is_finite and E != 0:\n",
        "  print(\"La señal es una señal de energía.\")\n",
        "elif P.is_finite and P != 0:\n",
        "  print(\"La señal es una señal de potencia.\")\n",
        "else:\n",
        "  print(\"La señal no es una señal de energía ni de potencia.\")"
      ],
      "execution_count": null,
      "outputs": [
        {
          "output_type": "stream",
          "name": "stdout",
          "text": [
            "La energía total de la señal es: Piecewise((0, (Abs(arg(a)) < pi/2) & (Abs(arg(a) + pi) < pi/2)), (Integral(t**2*exp(-2*a*t), (t, -oo, oo)), True))\n",
            "\n",
            "La potencia media de la señal es: oo\n",
            "La señal no es una señal de energía ni de potencia.\n"
          ]
        }
      ]
    },
    {
      "cell_type": "code",
      "source": [],
      "metadata": {
        "colab": {
          "base_uri": "https://localhost:8080/"
        },
        "id": "vA91lJFULooL",
        "outputId": "34058cdf-901f-4a6f-e929-5a4619f294b8"
      },
      "execution_count": null,
      "outputs": [
        {
          "output_type": "stream",
          "name": "stdout",
          "text": [
            "Energy: Piecewise((0, (Abs(arg(a)) < pi/2) & (Abs(arg(a) + pi) < pi/2)), (Integral(t**2*exp(-2*a*t), (t, -oo, oo)), True))\n",
            "Average Power: oo\n",
            "The signal is neither an energy nor a power signal.\n"
          ]
        }
      ]
    },
    {
      "cell_type": "markdown",
      "metadata": {
        "id": "447k85nvPGu1"
      },
      "source": [
        "##Ejercicio 4\n",
        "\n",
        "La distancia entre dos señales $x_1(t)$ y $x_2(t)$ se puede dar en términos de la potencia media de la diferencia entre ellas; es decir, la potencia media del error.\n",
        "\n",
        "$$\n",
        "d(x_1, x_2) = \\bar{P}_{x_1-x_2}=\\lim_{T \\to \\infty} \\frac{1}{T} \\int_T |x_1(t)-x_2(t)|^{2}~dt\n",
        "$$\n",
        "\n",
        "Sea $x_1(t)$ y $x_2(t$) dos señales periódicas de periodo fundamental $T_0$ como se muestra a continuación.\n",
        "\n",
        "$$\n",
        "x_1(t) = \\cos(w_0t), ~~~ w_0 = \\frac{2\\pi}{T_0}\\\\\n",
        "x_2(t)= \\left\\{ \\begin{array}{lcc}\n",
        "             ~~~1 &   si  & 0 \\leq t < \\frac{T}{4} \\\\\n",
        "             \\\\ -1 &  si &  \\frac{T}{4} \\leq t < \\frac{3T}{4} \\\\\n",
        "             \\\\ ~~~1 &  si  & \\frac{3T}{4} \\leq t < T\n",
        "             \\end{array}\n",
        "   \\right.\n",
        "$$\n",
        "\n",
        "Determine la distancia entre las dos señales."
      ]
    },
    {
      "cell_type": "code",
      "source": [
        "import numpy as np\n",
        "import sympy as sp\n",
        "\n",
        "# Definir símbolos\n",
        "t, T0, w0 = sp.symbols('t T0 w0', real=True)\n",
        "\n",
        "# Definir las señales\n",
        "x1 = sp.cos(w0 * t)\n",
        "x2 = sp.Piecewise(\n",
        "    (1, (t >= 0) & (t < T0 / 4)),\n",
        "    (-1, (t >= T0 / 4) & (t < 3 * T0 / 4)),\n",
        "    (1, (t >= 3 * T0 / 4) & (t < T0))\n",
        ")\n",
        "\n",
        "# Calcular la diferencia entre las señales\n",
        "diff = x1 - x2\n",
        "\n",
        "# Calcular la distancia (potencia media del error)\n",
        "distance = limit((1 / T0) * integrate(diff**2, (t, 0, T0),), T0, oo)\n",
        "\n",
        "# Mostrar el resultado\n",
        "print('La distancia entre las dos señales es:', distance)"
      ],
      "metadata": {
        "colab": {
          "base_uri": "https://localhost:8080/"
        },
        "id": "TgzSlfoCNAlU",
        "outputId": "7aabf116-cb83-46de-d5f5-454ab4cfd019"
      },
      "execution_count": null,
      "outputs": [
        {
          "output_type": "stream",
          "name": "stdout",
          "text": [
            "La distancia entre las dos señales es: Limit(Piecewise((Piecewise((-sin(w0*Min(0, T0))**2*Min(0, T0)/2 + sin(w0*Min(T0, Max(0, T0/4, 3*T0/4)))**2*Min(T0, Max(0, T0/4, 3*T0/4))/2 - cos(w0*Min(0, T0))**2*Min(0, T0)/2 + cos(w0*Min(T0, Max(0, T0/4, 3*T0/4)))**2*Min(T0, Max(0, T0/4, 3*T0/4))/2 - Min(0, T0) + Min(T0, Max(0, T0/4, 3*T0/4)) - sin(w0*Min(0, T0))*cos(w0*Min(0, T0))/(2*w0) + 2*sin(w0*Min(0, T0))/w0 - 4*sin(w0*Min(T0, Max(0, T0/4)))/w0 + sin(w0*Min(T0, Max(0, T0/4, 3*T0/4)))*cos(w0*Min(T0, Max(0, T0/4, 3*T0/4)))/(2*w0) + 2*sin(w0*Min(T0, Max(0, T0/4, 3*T0/4)))/w0, T0 <= Min(T0, Max(0, T0/4, 3*T0/4))), (nan, True)), Ne(w0, 0)), (Piecewise((-4*Min(T0, Max(0, T0/4)) + 4*Min(T0, Max(0, T0/4, 3*T0/4)), T0 <= Min(T0, Max(0, T0/4, 3*T0/4))), (nan, True)), True))/T0, T0, oo, dir='-')\n"
          ]
        }
      ]
    },
    {
      "cell_type": "markdown",
      "metadata": {
        "id": "aaIbx0zbPN8b"
      },
      "source": [
        "## Ejercicio 5\n",
        "\n",
        "Demostrar que la norma al cuadrado de una señal equivale a su energía."
      ]
    },
    {
      "cell_type": "markdown",
      "metadata": {
        "id": "a53zWPnfXslz"
      },
      "source": [
        "**Copyright**\n",
        "\n",
        "The notebook is provided as [Open Educational Resource](https://de.wikipedia.org/wiki/Open_Educational_Resources). Feel free to use the notebook for your own educational purposes. The text is licensed under [Creative Commons Attribution 4.0](https://creativecommons.org/licenses/by/4.0/), the code of the IPython examples under the [MIT license](https://opensource.org/licenses/MIT). Please attribute the work as follows: *Signals and Systems* by Sascha Spors."
      ]
    }
  ]
}