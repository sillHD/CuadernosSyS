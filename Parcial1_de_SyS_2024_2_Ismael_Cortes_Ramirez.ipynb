{
  "nbformat": 4,
  "nbformat_minor": 0,
  "metadata": {
    "colab": {
      "private_outputs": true,
      "provenance": [],
      "include_colab_link": true
    },
    "kernelspec": {
      "name": "python3",
      "display_name": "Python 3"
    },
    "language_info": {
      "name": "python"
    }
  },
  "cells": [
    {
      "cell_type": "markdown",
      "metadata": {
        "id": "view-in-github",
        "colab_type": "text"
      },
      "source": [
        "<a href=\"https://colab.research.google.com/github/sillHD/CuadernosSyS/blob/main/Parcial1_de_SyS_2024_2_Ismael_Cortes_Ramirez.ipynb\" target=\"_parent\"><img src=\"https://colab.research.google.com/assets/colab-badge.svg\" alt=\"Open In Colab\"/></a>"
      ]
    },
    {
      "cell_type": "markdown",
      "source": [
        "# Parcial 1: Señales y Sistemas 2024-II\n",
        "\n",
        " ## Profesor: Andrés Marino Álvarez Meza, Ph.D.\n",
        "\n",
        "\n",
        "## Departamento de Ingeniería Eléctrica, Electrónica, y Computación\n",
        "## Universidad Nacional de Colombia - sede Manizales"
      ],
      "metadata": {
        "id": "1fWMHXCqNtQw"
      }
    },
    {
      "cell_type": "markdown",
      "source": [
        "# Instrucciones\n",
        "\n",
        "-- Para recibir el crédito total, sus respuestas deben estar justificadas de manera clara, detallada y concreta, mostrando los procedimientos y razonamientos paso a paso.\n",
        "\n",
        "-- Está permitido el uso de herramientas de inteligencia artificial (IA). Si las utiliza, por favor declare explícitamente cómo fueron empleadas en la resolución de cada pregunta. Incluya los prompts (consultas) y las iteraciones realizadas con las IA durante el desarrollo del parcial.\n",
        "\n",
        "-- La entrega del parcial debe realizarse antes de las 23:59 del 5 de diciembre de 2024 al correo electrónico amalvarezme@unal.edu.co mediante un enlace de GitHub.\n",
        "\n",
        "-- Los códigos deben estar debidamente comentados en las celdas correspondientes y explicados en celdas de texto (markdown). Los códigos que no incluyan comentarios ni discusiones no serán considerados en la evaluación final."
      ],
      "metadata": {
        "id": "15xl7tLEP6YA"
      }
    },
    {
      "cell_type": "markdown",
      "source": [
        "# Pregunta 1 (valor 2.5 puntos)\n",
        "\n",
        "Cuál es la señal obtenida en tiempo discreto al utilizar un conversor análogo digital de 5 bits con frecuencia de muestreo de $5kHz$, aplicado a la señal continua $x(t) = 0.3 \\cos(1000\\pi t-\\pi/4) +\n",
        "0.6 \\sin(2000\\pi t) + 0.1 \\cos(11000\\pi t-\\pi)$?. Realizar la simulación del proceso de digitalización incluyendo al menos 3 ciclos de la señal $x(t)$.\n",
        "\n",
        "En caso de que la digitalización no sea apropiada, diseñe e implemente un conversor adecuado para la señal estudiada. El convesor debe permitir configurar la cantidad de bits y la frecuencia de muestreo, indicándole al usuario si dicha frecuencia es apropiada o no, y graficar la señal continua, discreta y digital."
      ],
      "metadata": {
        "id": "jmI0zzVMRLNx"
      }
    },
    {
      "cell_type": "code",
      "source": [
        "import numpy as np\n",
        "import matplotlib.pyplot as plt\n",
        "\n",
        "# Frecuencia y periodo de muestreo\n",
        "Fs = 5000\n",
        "Ts = 1/Fs\n",
        "\n",
        "# Se crea un vector con los valores de las amplitudes\n",
        "A = [0.3,0.6,0.1]\n",
        "\n",
        "# Se crea un vector con los valores de la velociades angulares\n",
        "Wo = [1000*np.pi,2000*np.pi,11000*np.pi]\n",
        "\n",
        "# Se crea un vector para las fases\n",
        "phi = [-np.pi/4,0,-np.pi]\n",
        "\n",
        "# se crea un vector vacio el cual almacenara las frecuencias de cada seccion de la funcion, despues se usa un ciclo que  utiliza el vector Wo para calcular las frecuencias\n",
        "F =[]\n",
        "for i in range(len(Wo)):\n",
        "  F.append(Wo[i]/(2*np.pi))\n",
        "\n",
        "# se crea un vector para definir los valores de t, debemos tener en cuenta que se nos pidio graficar al menos 3 ciclos, por lo cual necesitaremos la parte de la funcion que tiene la frencuencia menor para asi calcular el periodo maximo de la funcion\n",
        "T_max  = 1/F[0]\n",
        "t = np.linspace(0,3*T_max,5000)\n",
        "\n",
        "# Se crea una variable que sera la funcion que se nos dio del ejercicio, para poder llenarla se usa un ciclo que va usando los vectores A y Wo para armar cada seccion de la funcion y agregarla a x\n",
        "x = 0\n",
        "for i in range(len(A)):\n",
        "  if i%2 == 0:\n",
        "    x += (A[i]*np.cos(Wo[i]*t + phi[i]))\n",
        "  else:\n",
        "    x += (A[i]*np.sin(Wo[i]*t + phi[i]))\n",
        "\n",
        "# Proceso de discretizacion\n",
        "tv = np.arange(0,3*T_max,Ts)\n",
        "nbits  = 5\n",
        "xv = 0\n",
        "rmin = -0.75\n",
        "rmax = 1\n",
        "ve  = np.linspace(rmin,rmax,2**nbits)\n",
        "\n",
        "for i in range(len(A)):\n",
        "  if i%2 == 0:\n",
        "    xv += (A[i]*np.cos(Wo[i]*tv + phi[i]))\n",
        "  else:\n",
        "    xv += (A[i]*np.sin(Wo[i]*tv + phi[i]))\n",
        "\n",
        "# esta seccion grafica la funcion continua\n",
        "plt.figure(figsize=(12, 9)) # hace que la grafica sea mas ancha\n",
        "plt.subplot(3, 1, 1)\n",
        "plt.plot(t,x, label=\"Señal continua\", color='red')\n",
        "plt.title(\"Señal Continua\")\n",
        "plt.xlabel(\"Tiempo (s)\")\n",
        "plt.ylabel(\"Amplitud\")\n",
        "plt.grid()\n",
        "plt.legend()\n",
        "plt.xlim(-0.00005, 3*T_max+0.0001) # Ajusta el límite inferior del eje x a 0\n",
        "\n",
        "# esta seccion grafica la señal discreta\n",
        "plt.subplot(3, 1, 2)\n",
        "plt.plot(tv,xv, color='blue', label=\"Señal discreta\")\n",
        "plt.title(\"Señal Discreta\")\n",
        "plt.xlabel(\"Tiempo (s)\")\n",
        "plt.ylabel(\"Amplitud\")\n",
        "plt.grid()\n",
        "plt.legend()\n",
        "plt.xlim(-0.00005, 3*T_max+0.0001) # Ajusta el límite inferior del eje x a 0\n",
        "\n",
        "# Esta seccion grafica la señal digital\n",
        "plt.subplot(3, 1, 3)\n",
        "for v in ve:\n",
        "  plt.plot(tv,v*np.ones(len(tv))) # grafica los 32 estados que se obtuvieron de los 5 bits\n",
        "plt.plot(tv,xv, color='green')\n",
        "plt.stem(tv, xv, linefmt='g-', markerfmt='go', basefmt=' ', label=\"Señal Digital\") # genera  un grafico de tallo con lineas verticales\n",
        "plt.title(\"Señal Digital\")\n",
        "plt.xlabel(\"Tiempo (s)\")\n",
        "plt.ylabel(\"Amplitud\")\n",
        "plt.grid()\n",
        "plt.legend()\n",
        "plt.xlim(-0.00005, 3*T_max) # Ajusta el límite inferior del eje x a 0\n",
        "\n",
        "\n",
        "plt.tight_layout()\n",
        "plt.show()"
      ],
      "metadata": {
        "id": "2eQaVeTeQvZL"
      },
      "execution_count": null,
      "outputs": []
    },
    {
      "cell_type": "markdown",
      "source": [
        "si comparamos las dos graficas podemos notar que se presenta un aliasing en la grafica discreta debido a que la frecuencia de muestreo no cumple el teorema de nyquist,  por lo cual procederemos implementar un conversor adecuado para la señal estudiada, para esto usaremos como base el codigo anterior, con el ligero cambio de que estableceremos la frecuencia de muestreo y el numero de bits como variables de entrada"
      ],
      "metadata": {
        "id": "thCz6DHdwNJh"
      }
    },
    {
      "cell_type": "code",
      "source": [
        "import numpy as np\n",
        "import matplotlib.pyplot as plt\n",
        "\n",
        "# Se crea un vector con los valores de las amplitudes\n",
        "A = [0.3,0.6,0.1]\n",
        "\n",
        "# Se crea un vector con los valores de la velociades angulares\n",
        "Wo = [1000*np.pi,2000*np.pi,11000*np.pi]\n",
        "\n",
        "# Se crea un vector para las fases\n",
        "phi = [-np.pi/4,0,-np.pi]\n",
        "\n",
        "# se crea un vector vacio el cual almacenara las frecuencias de cada seccion de la funcion, despues se usa un ciclo que  utiliza el vector Wo para calcular las frecuencias\n",
        "F =[]\n",
        "for i in range(len(Wo)):\n",
        "  F.append(Wo[i]/(2*np.pi))\n",
        "F_max =  max(F)\n",
        "\n",
        "# Variables de entrada\n",
        "Fs = int(input(\"Ingrese la frecuencia de muestreo:\\n \"))\n",
        "while Fs < 2*F_max:\n",
        "  Fs = int(input(f\"La frecuencia ingresada no cumple con el teorema de Nyquist, recuerde que para este caso la frecuencia de muestreo(Fs) debe ser mayor o igual a {2*round(F_max)}Hz\\n\" ))\n",
        "Ts = 1/Fs\n",
        "nbits  = int(input(\"Ingrese el numero de bits:\\n \"))\n",
        "# se crea un vector para definir los valores de t, debemos tener en cuenta que se nos pidio graficar al menos 3 ciclos, por lo cual necesitaremos la parte de la funcion que tiene la frencuencia menor para asi calcular el periodo maximo de la funcion\n",
        "T_max  = 1/min(F)\n",
        "t = np.linspace(0,3*T_max,5000)\n",
        "\n",
        "# Se crea una variable que sera la funcion que se nos dio del ejercicio, para poder llenarla se usa un ciclo que va usando los vectores A y Wo para armar cada seccion de la funcion y agregarla a x\n",
        "x = 0\n",
        "for i in range(len(A)):\n",
        "  if i%2 == 0:\n",
        "    x += (A[i]*np.cos(Wo[i]*t + phi[i]))\n",
        "  else:\n",
        "    x += (A[i]*np.sin(Wo[i]*t + phi[i]))\n",
        "\n",
        "# Proceso de discretizacion\n",
        "tv = np.arange(0,3*T_max,Ts)\n",
        "xv = 0\n",
        "rmin = -0.75\n",
        "rmax = 1\n",
        "ve  = np.linspace(rmin,rmax,2**nbits)\n",
        "\n",
        "for i in range(len(A)):\n",
        "  if i%2 == 0:\n",
        "    xv += (A[i]*np.cos(Wo[i]*tv + phi[i]))\n",
        "  else:\n",
        "    xv += (A[i]*np.sin(Wo[i]*tv + phi[i]))\n",
        "\n",
        "# esta seccion grafica la funcion continua\n",
        "plt.figure(figsize=(12, 9)) # hace que la grafica sea mas ancha\n",
        "plt.subplot(3, 1, 1)\n",
        "plt.plot(t,x, label=\"Señal continua\", color='red')\n",
        "plt.title(\"Señal Continua\")\n",
        "plt.xlabel(\"Tiempo (s)\")\n",
        "plt.ylabel(\"Amplitud\")\n",
        "plt.grid()\n",
        "plt.legend()\n",
        "plt.xlim(-0.00005, 3*T_max+0.0001) # Ajusta el límite inferior del eje x a 0\n",
        "\n",
        "# esta seccion grafica la señal discreta\n",
        "plt.subplot(3, 1, 2)\n",
        "plt.plot(tv,xv, color='blue', label=\"Señal discreta\")\n",
        "plt.title(\"Señal Discreta\")\n",
        "plt.xlabel(\"Tiempo (s)\")\n",
        "plt.ylabel(\"Amplitud\")\n",
        "plt.grid()\n",
        "plt.legend()\n",
        "plt.xlim(-0.00005, 3*T_max+0.0001) # Ajusta el límite inferior del eje x a 0\n",
        "\n",
        "# Esta seccion grafica la señal digital\n",
        "plt.subplot(3, 1, 3)\n",
        "for v in ve:\n",
        "  plt.plot(tv,v*np.ones(len(tv))) # grafica los 32 estados que se obtuvieron de los 5 bits\n",
        "plt.plot(tv,xv, color='green')\n",
        "plt.stem(tv, xv, linefmt='g-', markerfmt='go', basefmt=' ', label=\"Señal Digital\") # genera  un grafico de tallo con lineas verticales\n",
        "plt.title(\"Señal Digital\")\n",
        "plt.xlabel(\"Tiempo (s)\")\n",
        "plt.ylabel(\"Amplitud\")\n",
        "plt.grid()\n",
        "plt.legend()\n",
        "plt.xlim(-0.00005, 3*T_max) # Ajusta el límite inferior del eje x a 0\n",
        "\n",
        "\n",
        "plt.tight_layout()\n",
        "plt.show()"
      ],
      "metadata": {
        "id": "ptb5xEDBzWMG"
      },
      "execution_count": null,
      "outputs": []
    },
    {
      "cell_type": "markdown",
      "source": [
        "# Pregunta 2 (valor 2.5 puntos)\n",
        "\n",
        "Se dispone de un sistema modelado como una \"caja negra\" (ver celdas de código). Su tarea es analizar y comprobar mediante simulaciones si el sistema cumple con las propiedades de linealidad e invariancia en el tiempo. En caso de que el sistema sea lineal e invariante con el tiempo, determine su respuesta al impulso y utilice esta respuesta para calcular la salida del sistema ante la siguiente señal:\n",
        "\n",
        "$x[n] = \\sin[100 \\pi n ] + \\sin[600 \\pi n]$"
      ],
      "metadata": {
        "id": "5Za-WbLpSele"
      }
    },
    {
      "cell_type": "code",
      "source": [
        "# cargar sistema\n",
        "FILEID = \"1J9rhh0wWHZSBd8XmWGt1ZpCsMDuoUFmm\"\n",
        "!wget --load-cookies /tmp/cookies.txt \"https://docs.google.com/uc?export=download&confirm=$(wget --quiet --save-cookies /tmp/cookies.txt --keep-session-cookies --no-check-certificate 'https://docs.google.com/uc?export=download&id='$FILEID -O- | sed -rn 's/.*confirm=([0-9A-Za-z_]+).*/\\1\\n/p')&id=\"$FILEID -O P1_model.zip && rm -rf /tmp/cookies.txt\n",
        "!unzip -o P1_model.zip\n",
        "!dir"
      ],
      "metadata": {
        "id": "6yJMMFK6zo5K"
      },
      "execution_count": null,
      "outputs": []
    },
    {
      "cell_type": "code",
      "source": [
        "import numpy as np\n",
        "import matplotlib.pyplot as plt\n",
        "import joblib\n",
        "from P1_model import system_\n",
        "from scipy.signal import firwin, freqz, lfilter, filtfilt\n",
        "\n",
        "#sistema pregunta 2\n",
        "my_system = system_.My_System()\n",
        "my_system.create_()\n",
        "fs = my_system.fs #frecuencia de muestreo\n",
        "t = np.arange(-0.01, 0.02, 1/fs)  # Tiempo\n",
        "signal_u = np.heaviside(t,1) # función heaviside\n",
        "y_u = my_system.predict(signal_u)\n",
        "\n",
        "\n",
        "# Visualización de las señales\n",
        "fig, axs = plt.subplots(2,1)\n",
        "axs[0].stem(t, signal_u, label='Señal de entrada')\n",
        "axs[0].set_xlabel('Tiempo (s)')\n",
        "axs[0].set_ylabel('Amplitud')\n",
        "axs[0].legend()\n",
        "axs[0].grid()\n",
        "axs[1].stem(t,y_u, label='Señal salida')\n",
        "axs[1].set_xlabel('Tiempo (s)')\n",
        "axs[1].set_ylabel('Amplitud')\n",
        "axs[1].legend()\n",
        "axs[1].grid()\n",
        "plt.tight_layout()\n",
        "plt.show()"
      ],
      "metadata": {
        "id": "nUX7Vr1fTUYW"
      },
      "execution_count": null,
      "outputs": []
    },
    {
      "cell_type": "code",
      "execution_count": null,
      "metadata": {
        "id": "DSfPWCpPNJa4"
      },
      "outputs": [],
      "source": []
    }
  ]
}